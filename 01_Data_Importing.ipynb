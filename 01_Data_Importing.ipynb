{
  "cells": [
    {
      "cell_type": "code",
      "execution_count": null,
      "metadata": {
        "id": "Es6hkBmQLmVp"
      },
      "outputs": [],
      "source": [
        "! mkdir ~/.kaggle"
      ]
    },
    {
      "cell_type": "code",
      "execution_count": null,
      "metadata": {
        "id": "1yWgQeD4U17f"
      },
      "outputs": [],
      "source": [
        "!cp /content/kaggle.json  ~/.kaggle/kaggle.json\n",
        "! chmod 600 ~/.kaggle/kaggle.json"
      ]
    },
    {
      "cell_type": "code",
      "execution_count": null,
      "metadata": {
        "colab": {
          "base_uri": "https://localhost:8080/"
        },
        "id": "drXiBTgUU1-U",
        "outputId": "3c7cfcb0-8c8a-4bd0-abb6-b48e466ad576"
      },
      "outputs": [
        {
          "name": "stdout",
          "output_type": "stream",
          "text": [
            "Downloading brain-tumor-classification-mri.zip to /content\n",
            " 97% 84.0M/86.8M [00:03<00:00, 33.1MB/s]\n",
            "100% 86.8M/86.8M [00:03<00:00, 25.8MB/s]\n"
          ]
        }
      ],
      "source": [
        "!kaggle datasets download -d sartajbhuvaji/brain-tumor-classification-mri"
      ]
    },
    {
      "cell_type": "code",
      "execution_count": null,
      "metadata": {
        "colab": {
          "base_uri": "https://localhost:8080/"
        },
        "id": "6tltXmKfVAgS",
        "outputId": "9e6cbc4c-2e99-4718-9c8b-1118f0aa373e"
      },
      "outputs": [
        {
          "output_type": "stream",
          "name": "stdout",
          "text": [
            "Done\n"
          ]
        }
      ],
      "source": [
        "from zipfile import ZipFile\n",
        "file_name= \"/content/brain-tumor-classification-mri.zip\"\n",
        "with ZipFile(file_name,'r') as zip:\n",
        "  zip.extractall()\n",
        "  print('Done')"
      ]
    },
    {
      "cell_type": "code",
      "source": [
        "# !rm -r /content/drive/MyDrive/brain_tumour_classification"
      ],
      "metadata": {
        "id": "sD3FHoJ_KKCJ"
      },
      "execution_count": null,
      "outputs": []
    },
    {
      "cell_type": "code",
      "source": [
        "!mkdir data"
      ],
      "metadata": {
        "id": "mnvFSKn1K8Fs"
      },
      "execution_count": null,
      "outputs": []
    },
    {
      "cell_type": "code",
      "execution_count": null,
      "metadata": {
        "id": "lhKsgIxdWGXY"
      },
      "outputs": [],
      "source": [
        "!mv /content/Training /content/data"
      ]
    },
    {
      "cell_type": "code",
      "execution_count": null,
      "metadata": {
        "id": "v7Nt4ADNWEDI"
      },
      "outputs": [],
      "source": [
        "!mv /content/Testing /content/data"
      ]
    },
    {
      "cell_type": "code",
      "execution_count": null,
      "metadata": {
        "id": "-ioi6K61VAeC"
      },
      "outputs": [],
      "source": [
        "!mv /content/data /content/drive/MyDrive/aaa_tumour_classification"
      ]
    }
  ],
  "metadata": {
    "colab": {
      "provenance": []
    },
    "kernelspec": {
      "display_name": "Python 3",
      "name": "python3"
    },
    "language_info": {
      "name": "python"
    }
  },
  "nbformat": 4,
  "nbformat_minor": 0
}